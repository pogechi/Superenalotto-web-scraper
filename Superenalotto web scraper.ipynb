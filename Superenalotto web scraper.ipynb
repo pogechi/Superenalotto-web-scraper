{
 "cells": [
  {
   "cell_type": "markdown",
   "metadata": {},
   "source": [
    "## Import values and store them in a Pandas dataframe"
   ]
  },
  {
   "cell_type": "code",
   "execution_count": 73,
   "metadata": {},
   "outputs": [],
   "source": [
    "import pandas as pd\n",
    "url = \"https://www.superenalotto.com/risultati/2021\"\n",
    "dfs = pd.read_html(url)\n",
    "df = dfs[0]\n",
    "df.set_index(\"Data estrazione\", inplace=True)\n",
    "df.drop(labels=\"Risultato\", axis=1, inplace=True)\n",
    "df = df.shift(periods=-1, axis=0)\n",
    "df2 = df.iloc[::2]"
   ]
  },
  {
   "cell_type": "code",
   "execution_count": 76,
   "metadata": {},
   "outputs": [
    {
     "data": {
      "text/html": [
       "<div>\n",
       "<style scoped>\n",
       "    .dataframe tbody tr th:only-of-type {\n",
       "        vertical-align: middle;\n",
       "    }\n",
       "\n",
       "    .dataframe tbody tr th {\n",
       "        vertical-align: top;\n",
       "    }\n",
       "\n",
       "    .dataframe thead th {\n",
       "        text-align: right;\n",
       "    }\n",
       "</style>\n",
       "<table border=\"1\" class=\"dataframe\">\n",
       "  <thead>\n",
       "    <tr style=\"text-align: right;\">\n",
       "      <th></th>\n",
       "      <th>Unnamed: 2</th>\n",
       "      <th>Unnamed: 3</th>\n",
       "      <th>Unnamed: 4</th>\n",
       "      <th>Unnamed: 5</th>\n",
       "      <th>Unnamed: 6</th>\n",
       "      <th>Unnamed: 7</th>\n",
       "    </tr>\n",
       "    <tr>\n",
       "      <th>Data estrazione</th>\n",
       "      <th></th>\n",
       "      <th></th>\n",
       "      <th></th>\n",
       "      <th></th>\n",
       "      <th></th>\n",
       "      <th></th>\n",
       "    </tr>\n",
       "  </thead>\n",
       "  <tbody>\n",
       "    <tr>\n",
       "      <th>12 agosto 2021</th>\n",
       "      <td>59.0</td>\n",
       "      <td>61.0</td>\n",
       "      <td>62.0</td>\n",
       "      <td>90.0</td>\n",
       "      <td>21.0</td>\n",
       "      <td>72.0</td>\n",
       "    </tr>\n",
       "    <tr>\n",
       "      <th>10 agosto 2021</th>\n",
       "      <td>47.0</td>\n",
       "      <td>49.0</td>\n",
       "      <td>53.0</td>\n",
       "      <td>56.0</td>\n",
       "      <td>22.0</td>\n",
       "      <td>59.0</td>\n",
       "    </tr>\n",
       "    <tr>\n",
       "      <th>7 agosto 2021</th>\n",
       "      <td>34.0</td>\n",
       "      <td>37.0</td>\n",
       "      <td>45.0</td>\n",
       "      <td>49.0</td>\n",
       "      <td>57.0</td>\n",
       "      <td>57.0</td>\n",
       "    </tr>\n",
       "    <tr>\n",
       "      <th>5 agosto 2021</th>\n",
       "      <td>41.0</td>\n",
       "      <td>44.0</td>\n",
       "      <td>52.0</td>\n",
       "      <td>84.0</td>\n",
       "      <td>86.0</td>\n",
       "      <td>12.0</td>\n",
       "    </tr>\n",
       "    <tr>\n",
       "      <th>3 agosto 2021</th>\n",
       "      <td>65.0</td>\n",
       "      <td>68.0</td>\n",
       "      <td>78.0</td>\n",
       "      <td>88.0</td>\n",
       "      <td>36.0</td>\n",
       "      <td>82.0</td>\n",
       "    </tr>\n",
       "  </tbody>\n",
       "</table>\n",
       "</div>"
      ],
      "text/plain": [
       "                 Unnamed: 2  Unnamed: 3  Unnamed: 4  Unnamed: 5  Unnamed: 6  \\\n",
       "Data estrazione                                                               \n",
       "12 agosto 2021         59.0        61.0        62.0        90.0        21.0   \n",
       "10 agosto 2021         47.0        49.0        53.0        56.0        22.0   \n",
       "7 agosto 2021          34.0        37.0        45.0        49.0        57.0   \n",
       "5 agosto 2021          41.0        44.0        52.0        84.0        86.0   \n",
       "3 agosto 2021          65.0        68.0        78.0        88.0        36.0   \n",
       "\n",
       "                 Unnamed: 7  \n",
       "Data estrazione              \n",
       "12 agosto 2021         72.0  \n",
       "10 agosto 2021         59.0  \n",
       "7 agosto 2021          57.0  \n",
       "5 agosto 2021          12.0  \n",
       "3 agosto 2021          82.0  "
      ]
     },
     "execution_count": 76,
     "metadata": {},
     "output_type": "execute_result"
    }
   ],
   "source": [
    "df2.head()"
   ]
  },
  {
   "cell_type": "code",
   "execution_count": 88,
   "metadata": {},
   "outputs": [],
   "source": [
    "df3 = df2.melt()"
   ]
  },
  {
   "cell_type": "code",
   "execution_count": 89,
   "metadata": {},
   "outputs": [
    {
     "data": {
      "text/html": [
       "<div>\n",
       "<style scoped>\n",
       "    .dataframe tbody tr th:only-of-type {\n",
       "        vertical-align: middle;\n",
       "    }\n",
       "\n",
       "    .dataframe tbody tr th {\n",
       "        vertical-align: top;\n",
       "    }\n",
       "\n",
       "    .dataframe thead th {\n",
       "        text-align: right;\n",
       "    }\n",
       "</style>\n",
       "<table border=\"1\" class=\"dataframe\">\n",
       "  <thead>\n",
       "    <tr style=\"text-align: right;\">\n",
       "      <th></th>\n",
       "      <th>variable</th>\n",
       "      <th>value</th>\n",
       "    </tr>\n",
       "  </thead>\n",
       "  <tbody>\n",
       "    <tr>\n",
       "      <th>0</th>\n",
       "      <td>Unnamed: 2</td>\n",
       "      <td>59.0</td>\n",
       "    </tr>\n",
       "    <tr>\n",
       "      <th>1</th>\n",
       "      <td>Unnamed: 2</td>\n",
       "      <td>47.0</td>\n",
       "    </tr>\n",
       "    <tr>\n",
       "      <th>2</th>\n",
       "      <td>Unnamed: 2</td>\n",
       "      <td>34.0</td>\n",
       "    </tr>\n",
       "    <tr>\n",
       "      <th>3</th>\n",
       "      <td>Unnamed: 2</td>\n",
       "      <td>41.0</td>\n",
       "    </tr>\n",
       "    <tr>\n",
       "      <th>4</th>\n",
       "      <td>Unnamed: 2</td>\n",
       "      <td>65.0</td>\n",
       "    </tr>\n",
       "  </tbody>\n",
       "</table>\n",
       "</div>"
      ],
      "text/plain": [
       "     variable  value\n",
       "0  Unnamed: 2   59.0\n",
       "1  Unnamed: 2   47.0\n",
       "2  Unnamed: 2   34.0\n",
       "3  Unnamed: 2   41.0\n",
       "4  Unnamed: 2   65.0"
      ]
     },
     "execution_count": 89,
     "metadata": {},
     "output_type": "execute_result"
    }
   ],
   "source": [
    "df3.head()"
   ]
  },
  {
   "cell_type": "markdown",
   "metadata": {},
   "source": [
    "## Plot histogram"
   ]
  },
  {
   "cell_type": "code",
   "execution_count": 93,
   "metadata": {},
   "outputs": [
    {
     "data": {
      "text/plain": [
       "<AxesSubplot:xlabel='value', ylabel='Count'>"
      ]
     },
     "execution_count": 93,
     "metadata": {},
     "output_type": "execute_result"
    },
    {
     "data": {
      "image/png": "[encoded data removed]",
      "text/plain": [
       "<Figure size 432x288 with 1 Axes>"
      ]
     },
     "metadata": {
      "needs_background": "light"
     },
     "output_type": "display_data"
    }
   ],
   "source": [
    "import seaborn as sns\n",
    "sns.histplot(data=df3, x=\"value\", bins=90)"
   ]
  },
  {
   "cell_type": "markdown",
   "metadata": {},
   "source": [
    "## List values by frequency"
   ]
  },
  {
   "cell_type": "code",
   "execution_count": 101,
   "metadata": {},
   "outputs": [
    {
     "data": {
      "text/plain": [
       "[65.0,\n",
       " 72.0,\n",
       " 87.0,\n",
       " 40.0,\n",
       " 61.0,\n",
       " 89.0,\n",
       " 59.0,\n",
       " 57.0,\n",
       " 45.0,\n",
       " 78.0,\n",
       " 79.0,\n",
       " 48.0,\n",
       " 62.0,\n",
       " 58.0,\n",
       " 66.0,\n",
       " 60.0,\n",
       " 56.0,\n",
       " 68.0,\n",
       " 63.0,\n",
       " 86.0,\n",
       " 71.0,\n",
       " 77.0,\n",
       " 52.0,\n",
       " 43.0,\n",
       " 54.0,\n",
       " 88.0,\n",
       " 44.0,\n",
       " 84.0,\n",
       " 49.0,\n",
       " 81.0,\n",
       " 27.0,\n",
       " 76.0,\n",
       " 47.0,\n",
       " 83.0,\n",
       " 41.0,\n",
       " 53.0,\n",
       " 75.0,\n",
       " 82.0,\n",
       " 90.0,\n",
       " 67.0,\n",
       " 42.0,\n",
       " 20.0,\n",
       " 30.0,\n",
       " 74.0,\n",
       " 39.0,\n",
       " 25.0,\n",
       " 64.0,\n",
       " 85.0,\n",
       " 69.0,\n",
       " 36.0,\n",
       " 80.0,\n",
       " 51.0,\n",
       " 21.0,\n",
       " 37.0,\n",
       " 33.0,\n",
       " 50.0,\n",
       " 29.0,\n",
       " 46.0,\n",
       " 70.0,\n",
       " 35.0,\n",
       " 73.0,\n",
       " 31.0,\n",
       " 2.0,\n",
       " 16.0,\n",
       " 13.0,\n",
       " 26.0,\n",
       " 34.0,\n",
       " 10.0,\n",
       " 19.0,\n",
       " 11.0,\n",
       " 8.0,\n",
       " 38.0,\n",
       " 12.0,\n",
       " 18.0,\n",
       " 55.0,\n",
       " 22.0,\n",
       " 15.0,\n",
       " 9.0,\n",
       " 5.0,\n",
       " 23.0,\n",
       " 3.0,\n",
       " 24.0,\n",
       " 4.0,\n",
       " 1.0,\n",
       " 32.0,\n",
       " 6.0,\n",
       " 28.0,\n",
       " 17.0]"
      ]
     },
     "execution_count": 101,
     "metadata": {},
     "output_type": "execute_result"
    }
   ],
   "source": [
    "df3['value'].value_counts().index.tolist()"
   ]
  },
  {
   "cell_type": "markdown",
   "metadata": {},
   "source": [
    "## Most frequent values and occurrence of each"
   ]
  },
  {
   "cell_type": "code",
   "execution_count": 105,
   "metadata": {},
   "outputs": [
    {
     "data": {
      "text/plain": [
       "65.0    16\n",
       "72.0    15\n",
       "87.0    14\n",
       "40.0    13\n",
       "61.0    12\n",
       "89.0    12\n",
       "59.0    12\n",
       "57.0    11\n",
       "58.0    10\n",
       "68.0    10\n",
       "56.0    10\n",
       "60.0    10\n",
       "Name: value, dtype: int64"
      ]
     },
     "execution_count": 105,
     "metadata": {},
     "output_type": "execute_result"
    }
   ],
   "source": [
    "df3['value'].value_counts().sort_values(ascending=False).head(n=12)"
   ]
  },
  {
   "cell_type": "markdown",
   "metadata": {},
   "source": [
    "## Least frequent values and occurrence of each\n",
    "#### (Numbers that have not come out will not show up)"
   ]
  },
  {
   "cell_type": "code",
   "execution_count": 106,
   "metadata": {},
   "outputs": [
    {
     "data": {
      "text/plain": [
       "17.0    1\n",
       "28.0    1\n",
       "32.0    2\n",
       "5.0     2\n",
       "23.0    2\n",
       "3.0     2\n",
       "6.0     2\n",
       "4.0     2\n",
       "1.0     2\n",
       "24.0    2\n",
       "9.0     3\n",
       "15.0    3\n",
       "Name: value, dtype: int64"
      ]
     },
     "execution_count": 106,
     "metadata": {},
     "output_type": "execute_result"
    }
   ],
   "source": [
    "df3['value'].value_counts().sort_values(ascending=True).head(n=12)"
   ]
  },
  {
   "cell_type": "code",
   "execution_count": null,
   "metadata": {},
   "outputs": [],
   "source": []
  }
 ],
 "metadata": {
  "kernelspec": {
   "display_name": "Python 3",
   "language": "python",
   "name": "python3"
  },
  "language_info": {
   "codemirror_mode": {
    "name": "ipython",
    "version": 3
   },
   "file_extension": ".py",
   "mimetype": "text/x-python",
   "name": "python",
   "nbconvert_exporter": "python",
   "pygments_lexer": "ipython3",
   "version": "3.8.5"
  }
 },
 "nbformat": 4,
 "nbformat_minor": 4
}
